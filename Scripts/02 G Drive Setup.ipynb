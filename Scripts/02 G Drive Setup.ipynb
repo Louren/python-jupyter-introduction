{
 "cells": [
  {
   "cell_type": "markdown",
   "metadata": {},
   "source": [
    "# Connect to Google Drive\n"
   ]
  },
  {
   "cell_type": "markdown",
   "metadata": {},
   "source": [
    "[![Run in Google Collab](https://img.shields.io/badge/Run%20in%20Google%20Collab-grey?logo=googlecolab)](https://colab.research.google.com/github/Louren/python-jupyter-introduction/blob/main/Scripts/02%20G%20Drive%20Setup.ipynb)"
   ]
  },
  {
   "cell_type": "markdown",
   "metadata": {},
   "source": [
    "## 1. Mount Google Drive\n",
    "After this command, you will find the Google Drive under the \"Files\" section. You will have to authorize the access to your Google Drive account."
   ]
  },
  {
   "cell_type": "code",
   "execution_count": null,
   "metadata": {},
   "outputs": [],
   "source": [
    "from google.colab import drive\n",
    "drive.mount('/content/drive')"
   ]
  },
  {
   "cell_type": "markdown",
   "metadata": {},
   "source": [
    "## 2. Ophalen voorbeeldcode voor de cursus"
   ]
  },
  {
   "cell_type": "code",
   "execution_count": null,
   "metadata": {},
   "outputs": [],
   "source": [
    "! git clone https://github.com/Louren/python-jupyter-introduction.git /content/drive/MyDrive/NBADataScience\n",
    "! cd /content/drive/MyDrive/NBADataScience && git pull"
   ]
  },
  {
   "cell_type": "markdown",
   "metadata": {},
   "source": [
    "That's it! You're ready to code!"
   ]
  }
 ],
 "metadata": {
  "language_info": {
   "name": "python"
  },
  "orig_nbformat": 4
 },
 "nbformat": 4,
 "nbformat_minor": 2
}
