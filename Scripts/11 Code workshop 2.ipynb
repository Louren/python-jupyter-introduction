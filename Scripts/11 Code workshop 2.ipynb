{
 "cells": [
  {
   "cell_type": "markdown",
   "id": "e96457be",
   "metadata": {},
   "source": [
    "# Applications in Data Science"
   ]
  },
  {
   "cell_type": "code",
   "execution_count": null,
   "id": "5bfa3f14",
   "metadata": {},
   "outputs": [],
   "source": [
    "# Initiate Google Drive connection\n",
    "from google.colab import drive\n",
    "drive.mount('/content/drive')"
   ]
  },
  {
   "cell_type": "code",
   "execution_count": null,
   "id": "8a9d5680",
   "metadata": {},
   "outputs": [],
   "source": [
    "# Install required packages\n",
    "!pip install -q pmdarima"
   ]
  },
  {
   "cell_type": "code",
   "execution_count": null,
   "id": "842c5108",
   "metadata": {},
   "outputs": [],
   "source": [
    "import pandas as pd\n",
    "import pmdarima as pm\n",
    "import statsmodels.api as sm\n",
    "import matplotlib.pyplot as plt"
   ]
  },
  {
   "cell_type": "markdown",
   "id": "3360db99",
   "metadata": {},
   "source": [
    "# Analyzing the revenue data"
   ]
  },
  {
   "cell_type": "code",
   "execution_count": null,
   "id": "fad02eb0",
   "metadata": {},
   "outputs": [],
   "source": [
    "# Read in your dataset\n",
    "data = pd.read_excel(\"/content/drive/MyDrive/NBADataScience/Workshop data/data_retail.xlsx\")"
   ]
  },
  {
   "cell_type": "code",
   "execution_count": null,
   "id": "8b12109b",
   "metadata": {},
   "outputs": [],
   "source": [
    "# Print first 5 rows of data\n",
    "data.head()"
   ]
  },
  {
   "cell_type": "code",
   "execution_count": null,
   "id": "6b5c2133",
   "metadata": {},
   "outputs": [],
   "source": [
    "# Show data of the revenue column\n",
    "data['revenue']"
   ]
  },
  {
   "cell_type": "code",
   "execution_count": null,
   "id": "5ba4101d",
   "metadata": {},
   "outputs": [],
   "source": [
    "# Calculate the sum of the revenue column\n",
    "data['revenue'].sum()"
   ]
  },
  {
   "cell_type": "code",
   "execution_count": null,
   "id": "e4fe225b",
   "metadata": {},
   "outputs": [],
   "source": [
    "# Group the data by month, and give the mean of the revenue column.\n",
    "data.groupby(\"month\").agg({\"revenue\": \"mean\"})"
   ]
  },
  {
   "cell_type": "markdown",
   "id": "59a160f8",
   "metadata": {},
   "source": [
    "# Time series decomposition"
   ]
  },
  {
   "cell_type": "code",
   "execution_count": null,
   "id": "c116b12a",
   "metadata": {},
   "outputs": [],
   "source": [
    "# Convert the date column to a datetime type\n",
    "data['Date'] = pd.to_datetime(data['date'])\n",
    "\n",
    "# Set the date column as the index of the DataFrame\n",
    "data.set_index('Date', inplace=True)\n",
    "\n",
    "# Perform time series decomposition using statsmodels\n",
    "decomposition = sm.tsa.seasonal_decompose(data['revenue'], model='additive')\n",
    "\n",
    "# Extract the trend, seasonal, and residual components\n",
    "trend = decomposition.trend\n",
    "seasonal = decomposition.seasonal\n",
    "residual = decomposition.resid"
   ]
  },
  {
   "cell_type": "code",
   "execution_count": null,
   "id": "a632298a",
   "metadata": {},
   "outputs": [],
   "source": [
    "# Plot the original time series data\n",
    "plt.figure(figsize=(10, 6))\n",
    "plt.subplot(411)\n",
    "plt.plot(data['revenue'])\n",
    "plt.ylabel('revenue')\n",
    "plt.title('Original Time Series')\n",
    "\n",
    "# Plot the trend component\n",
    "plt.subplot(412)\n",
    "plt.plot(trend)\n",
    "plt.ylabel('Trend')\n",
    "plt.title('Trend Component')\n",
    "\n",
    "# Plot the seasonal component\n",
    "plt.subplot(413)\n",
    "plt.plot(seasonal)\n",
    "plt.ylabel('Seasonality')\n",
    "plt.title('Seasonal Component')\n",
    "\n",
    "# Plot the residual component\n",
    "plt.subplot(414)\n",
    "plt.plot(residual)\n",
    "plt.ylabel('Residual')\n",
    "plt.title('Residual Component')\n",
    "\n",
    "# Adjust the spacing between subplots\n",
    "plt.tight_layout()\n",
    "\n",
    "# Display the plot\n",
    "plt.show()"
   ]
  },
  {
   "cell_type": "markdown",
   "id": "139d6405",
   "metadata": {},
   "source": [
    "# Forecasting revenues"
   ]
  },
  {
   "cell_type": "code",
   "execution_count": null,
   "id": "877b2246",
   "metadata": {
    "scrolled": true
   },
   "outputs": [],
   "source": [
    "# Create the Holt-Winters model\n",
    "model = sm.tsa.ExponentialSmoothing(data['revenue'], trend='add', seasonal='add', seasonal_periods=12)\n",
    "\n",
    "# Fit the model to the data\n",
    "holt_winters_model = model.fit()\n",
    "\n",
    "# Forecast future values using the Holt-Winters model\n",
    "forecast_values = holt_winters_model.predict(start='2023-10-01', end='2025-10-01')\n",
    "\n",
    "print(forecast_values.head())"
   ]
  },
  {
   "cell_type": "code",
   "execution_count": null,
   "id": "45b8cc09",
   "metadata": {},
   "outputs": [],
   "source": [
    "# Plot the original time series data along with the forecasted values\n",
    "plt.figure(figsize=(10, 6))\n",
    "plt.plot(data['revenue'], label='Original')\n",
    "plt.plot(forecast_values, label='Holt-Winters Forecast')\n",
    "plt.xlabel('Date'), plt.ylabel('Revenue (milj)')\n",
    "plt.title('Time Series Forecasting with Holt-Winters')\n",
    "plt.legend()\n",
    "\n",
    "# Display the plot\n",
    "plt.show()"
   ]
  },
  {
   "cell_type": "code",
   "execution_count": null,
   "id": "fd7bbfeb",
   "metadata": {},
   "outputs": [],
   "source": [
    "forecast_data = pd.DataFrame(forecast_values, columns=[\"revenue\"])\n",
    "forecast_data.head()"
   ]
  },
  {
   "cell_type": "code",
   "execution_count": null,
   "id": "aa91f59f",
   "metadata": {},
   "outputs": [],
   "source": [
    "# Save the data to excel.\n",
    "forecast_data.to_excel(\"/content/drive/MyDrive/NBADataScience/forecasted_data.xlsx\")"
   ]
  },
  {
   "cell_type": "code",
   "execution_count": null,
   "id": "846631a9",
   "metadata": {},
   "outputs": [],
   "source": [
    "# Preparations for model evaulation (prepared by your data analyst)\n",
    "from sklearn.metrics import mean_absolute_error\n",
    "import numpy as np\n",
    "\n",
    "# Define Y true and Y predicted based on historic data\n",
    "y_pred = holt_winters_model.predict(start='1988-05-01', end='2023-9-01')\n",
    "y_true = data['revenue']\n",
    "\n",
    "def mean_absolute_percentage_error(y_true, y_pred):\n",
    "    y_true, y_pred = np.array(y_true), np.array(y_pred)\n",
    "    return np.mean(np.abs((y_true - y_pred) / y_true)) * 100"
   ]
  },
  {
   "cell_type": "markdown",
   "id": "039203b1",
   "metadata": {},
   "source": [
    "## Model MAE\n",
    "De MAE (Mean Absolute Error, gemiddeld absolute fout) van ons model is als volgt:"
   ]
  },
  {
   "cell_type": "code",
   "execution_count": null,
   "id": "f86b8b48",
   "metadata": {},
   "outputs": [],
   "source": [
    "mean_absolute_error(y_true, y_pred)"
   ]
  },
  {
   "cell_type": "markdown",
   "id": "39f13a4d",
   "metadata": {},
   "source": [
    "Interpretatie: ..."
   ]
  },
  {
   "cell_type": "markdown",
   "id": "4f88bdac",
   "metadata": {},
   "source": [
    "## Model MAPE\n",
    "De MAPE (Mean Absolute Percentage Error, gemiddeld percentage fout) van ons model is als volgt:"
   ]
  },
  {
   "cell_type": "code",
   "execution_count": null,
   "id": "43c31091",
   "metadata": {},
   "outputs": [],
   "source": [
    "mean_absolute_percentage_error(y_true, y_pred)"
   ]
  },
  {
   "cell_type": "markdown",
   "id": "4db6aa98",
   "metadata": {},
   "source": [
    "Interpretatie: ..."
   ]
  }
 ],
 "metadata": {
  "kernelspec": {
   "display_name": "Python 3 (ipykernel)",
   "language": "python",
   "name": "python3"
  },
  "language_info": {
   "codemirror_mode": {
    "name": "ipython",
    "version": 3
   },
   "file_extension": ".py",
   "mimetype": "text/x-python",
   "name": "python",
   "nbconvert_exporter": "python",
   "pygments_lexer": "ipython3",
   "version": "3.9.12"
  }
 },
 "nbformat": 4,
 "nbformat_minor": 5
}
