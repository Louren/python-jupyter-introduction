{
 "cells": [
  {
   "cell_type": "markdown",
   "id": "5f004ff4",
   "metadata": {},
   "source": [
    "# Bank journal entries analyzer"
   ]
  },
  {
   "cell_type": "code",
   "execution_count": null,
   "id": "9a266d3b",
   "metadata": {},
   "outputs": [],
   "source": [
    "# Install the benfordslaw package that we'll use later (run me just once)\n",
    "!pip install -q benfordslaw"
   ]
  },
  {
   "cell_type": "code",
   "execution_count": null,
   "id": "ab5acdb9",
   "metadata": {},
   "outputs": [],
   "source": [
    "# Initiate Google Drive connection\n",
    "from google.colab import drive\n",
    "drive.mount('/content/drive')"
   ]
  },
  {
   "cell_type": "code",
   "execution_count": null,
   "id": "261edf90",
   "metadata": {},
   "outputs": [],
   "source": [
    "\n",
    "from benfordslaw import benfordslaw\n",
    "import pandas as pd"
   ]
  },
  {
   "cell_type": "code",
   "execution_count": null,
   "id": "3f2d5c06",
   "metadata": {},
   "outputs": [],
   "source": [
    "# Read in your dataset with journal entries\n",
    "data = pd.read_excel(\"/content/drive/MyDrive/NBADataScience/Workshop data/bank_journal_data.xlsx\")"
   ]
  },
  {
   "cell_type": "code",
   "execution_count": null,
   "id": "02e340c0",
   "metadata": {},
   "outputs": [],
   "source": [
    "# Show the 5 first rows\n",
    "data.head()"
   ]
  },
  {
   "cell_type": "markdown",
   "id": "c692cb43",
   "metadata": {},
   "source": [
    "## Create a General Ledger - Journal matrix"
   ]
  },
  {
   "cell_type": "code",
   "execution_count": null,
   "id": "642ccb7d",
   "metadata": {
    "scrolled": true
   },
   "outputs": [],
   "source": [
    "# Create a General Ledger - Journal matrix\n",
    "data.pivot_table(index='GL Account', columns='Journal', values='Amount', aggfunc='sum', fill_value=0)"
   ]
  },
  {
   "cell_type": "markdown",
   "id": "90296883",
   "metadata": {},
   "source": [
    "## Further research on specific data"
   ]
  },
  {
   "cell_type": "code",
   "execution_count": null,
   "id": "1d3bc953",
   "metadata": {},
   "outputs": [],
   "source": [
    "# Filter on journal\n",
    "data[data.Journal == '12 Bank']"
   ]
  },
  {
   "cell_type": "code",
   "execution_count": null,
   "id": "d47e699b",
   "metadata": {},
   "outputs": [],
   "source": [
    "# Filter on journal and write to Excel\n",
    "data[data.Journal == '12 Bank'].to_excel(\"/content/drive/MyDrive/NBADataScience/bank_journal_selection.xlsx\")"
   ]
  },
  {
   "cell_type": "code",
   "execution_count": null,
   "id": "859d696c",
   "metadata": {},
   "outputs": [],
   "source": [
    "# Filter on amount\n",
    "data[data.Amount < 0]"
   ]
  },
  {
   "cell_type": "code",
   "execution_count": null,
   "id": "66973fce",
   "metadata": {},
   "outputs": [],
   "source": [
    "# Filter on absolute amounts\n",
    "data[data.Amount.abs() > 1000000]"
   ]
  },
  {
   "cell_type": "markdown",
   "id": "54639eb0",
   "metadata": {},
   "source": [
    "## Perform a Benford's Law Analysis"
   ]
  },
  {
   "cell_type": "code",
   "execution_count": null,
   "id": "c66fc962",
   "metadata": {},
   "outputs": [],
   "source": [
    "# Conduct a Benford's Law Analysis\n",
    "bl = benfordslaw(alpha=0.01)\n",
    "\n",
    "# Extract relevant information.\n",
    "X = data['Amount'].values\n",
    "\n",
    "# Make fit\n",
    "results = bl.fit(X)\n",
    "bl.plot(title=\"Benford's Law\");"
   ]
  },
  {
   "cell_type": "code",
   "execution_count": null,
   "id": "96792071",
   "metadata": {},
   "outputs": [],
   "source": []
  }
 ],
 "metadata": {
  "kernelspec": {
   "display_name": "Python 3 (ipykernel)",
   "language": "python",
   "name": "python3"
  },
  "language_info": {
   "codemirror_mode": {
    "name": "ipython",
    "version": 3
   },
   "file_extension": ".py",
   "mimetype": "text/x-python",
   "name": "python",
   "nbconvert_exporter": "python",
   "pygments_lexer": "ipython3",
   "version": "3.9.12"
  }
 },
 "nbformat": 4,
 "nbformat_minor": 5
}
