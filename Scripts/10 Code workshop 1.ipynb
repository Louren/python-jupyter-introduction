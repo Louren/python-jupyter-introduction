{
  "cells": [
    {
      "cell_type": "markdown",
      "id": "5f004ff4",
      "metadata": {
        "id": "5f004ff4"
      },
      "source": [
        "# Analyzing journal entries"
      ]
    },
    {
      "cell_type": "code",
      "execution_count": null,
      "id": "9a266d3b",
      "metadata": {
        "colab": {
          "base_uri": "https://localhost:8080/"
        },
        "id": "9a266d3b",
        "outputId": "996566da-613c-4eac-b0b8-ba09acae70d2"
      },
      "outputs": [],
      "source": [
        "# Install the benfordslaw package that we'll use later (run me just once)\n",
        "!pip install -q benfordslaw"
      ]
    },
    {
      "cell_type": "code",
      "execution_count": null,
      "id": "ab5acdb9",
      "metadata": {
        "colab": {
          "base_uri": "https://localhost:8080/"
        },
        "id": "ab5acdb9",
        "outputId": "bd86e3d4-dc8b-445e-aebf-0eb54c9633d3"
      },
      "outputs": [],
      "source": [
        "# Initiate Google Drive connection\n",
        "from google.colab import drive\n",
        "drive.mount('/content/drive')"
      ]
    },
    {
      "cell_type": "code",
      "execution_count": null,
      "id": "261edf90",
      "metadata": {
        "id": "261edf90"
      },
      "outputs": [],
      "source": [
        "\n",
        "from benfordslaw import benfordslaw\n",
        "import pandas as pd"
      ]
    },
    {
      "cell_type": "code",
      "execution_count": null,
      "id": "3f2d5c06",
      "metadata": {
        "id": "3f2d5c06"
      },
      "outputs": [],
      "source": [
        "# Read in your dataset with journal entries\n",
        "data = pd.read_excel(\"/content/drive/MyDrive/NBADataScience/Workshop data/Journal_entries_debtors.xlsx\")"
      ]
    },
    {
      "cell_type": "code",
      "execution_count": null,
      "id": "02e340c0",
      "metadata": {
        "colab": {
          "base_uri": "https://localhost:8080/",
          "height": 414
        },
        "id": "02e340c0",
        "outputId": "701e59e8-b6db-4b59-b4fb-2f7b53e096f6"
      },
      "outputs": [],
      "source": [
        "# Show the 5 first rows\n",
        "data.head()"
      ]
    },
    {
      "cell_type": "markdown",
      "id": "c692cb43",
      "metadata": {
        "id": "c692cb43"
      },
      "source": [
        "## Create a General Ledger - Journal matrix"
      ]
    },
    {
      "cell_type": "code",
      "execution_count": null,
      "id": "642ccb7d",
      "metadata": {
        "colab": {
          "base_uri": "https://localhost:8080/",
          "height": 143
        },
        "id": "642ccb7d",
        "outputId": "7d9d38ef-8cea-4a09-962b-1de3c34cd612",
        "scrolled": true
      },
      "outputs": [],
      "source": [
        "# Create a General Ledger - Journal matrix\n",
        "data.pivot_table(index='GL Account', columns='Journal', values='Amount', aggfunc='sum', fill_value=0)"
      ]
    },
    {
      "cell_type": "markdown",
      "id": "90296883",
      "metadata": {
        "id": "90296883"
      },
      "source": [
        "## Further research on specific data"
      ]
    },
    {
      "cell_type": "code",
      "execution_count": null,
      "id": "1d3bc953",
      "metadata": {
        "colab": {
          "base_uri": "https://localhost:8080/",
          "height": 98
        },
        "id": "1d3bc953",
        "outputId": "2c31d88b-42d9-4f48-e151-db4506799993"
      },
      "outputs": [],
      "source": [
        "# Filter on journal\n",
        "data[data.Journal == 'GENJNL General Journal']"
      ]
    },
    {
      "cell_type": "code",
      "execution_count": null,
      "id": "kLgjLmTVaidf",
      "metadata": {
        "colab": {
          "base_uri": "https://localhost:8080/",
          "height": 248
        },
        "id": "kLgjLmTVaidf",
        "outputId": "9632e1c7-c766-4c6c-9cbf-815dd6910242"
      },
      "outputs": [],
      "source": [
        "# Filter on relation\n",
        "data[data.Relation == 'AlphaQuote'].head(3)"
      ]
    },
    {
      "cell_type": "code",
      "execution_count": null,
      "id": "d47e699b",
      "metadata": {
        "id": "d47e699b"
      },
      "outputs": [],
      "source": [
        "# Filter on relation and write to Excel\n",
        "data[data.Relation == 'AlphaQuote'].to_excel(\"/content/drive/MyDrive/NBADataScience/journal_entry_selection.xlsx\")"
      ]
    },
    {
      "cell_type": "code",
      "execution_count": null,
      "id": "859d696c",
      "metadata": {
        "colab": {
          "base_uri": "https://localhost:8080/",
          "height": 840
        },
        "id": "859d696c",
        "outputId": "05286e15-1e00-4c9f-d2d9-30fdff2464b3"
      },
      "outputs": [],
      "source": [
        "# Filter on amount\n",
        "data[data.Amount < 0]"
      ]
    },
    {
      "cell_type": "code",
      "execution_count": null,
      "id": "66973fce",
      "metadata": {
        "colab": {
          "base_uri": "https://localhost:8080/",
          "height": 81
        },
        "id": "66973fce",
        "outputId": "997ab714-e3ba-49de-9294-10adbd8f0938"
      },
      "outputs": [],
      "source": [
        "# Filter on absolute amounts\n",
        "data[data.Amount.abs() > 1000000]"
      ]
    },
    {
      "cell_type": "markdown",
      "id": "54639eb0",
      "metadata": {
        "id": "54639eb0"
      },
      "source": [
        "## Perform a Benford's Law Analysis"
      ]
    },
    {
      "cell_type": "code",
      "execution_count": null,
      "id": "c66fc962",
      "metadata": {
        "colab": {
          "base_uri": "https://localhost:8080/",
          "height": 792
        },
        "id": "c66fc962",
        "outputId": "ce9565d8-2def-4cf3-d7da-8a0552006b2a"
      },
      "outputs": [],
      "source": [
        "# Conduct a Benford's Law Analysis\n",
        "bl = benfordslaw(alpha=0.01)\n",
        "\n",
        "# Extract relevant information.\n",
        "X = data['Amount'].values\n",
        "\n",
        "# Make fit\n",
        "results = bl.fit(X)\n",
        "bl.plot(title=\"Benford's Law\");"
      ]
    },
    {
      "cell_type": "code",
      "execution_count": null,
      "id": "96792071",
      "metadata": {
        "id": "96792071"
      },
      "outputs": [],
      "source": []
    }
  ],
  "metadata": {
    "colab": {
      "provenance": []
    },
    "kernelspec": {
      "display_name": "Python 3 (ipykernel)",
      "language": "python",
      "name": "python3"
    },
    "language_info": {
      "codemirror_mode": {
        "name": "ipython",
        "version": 3
      },
      "file_extension": ".py",
      "mimetype": "text/x-python",
      "name": "python",
      "nbconvert_exporter": "python",
      "pygments_lexer": "ipython3",
      "version": "3.9.12"
    }
  },
  "nbformat": 4,
  "nbformat_minor": 5
}
