{
 "cells": [
  {
   "cell_type": "markdown",
   "id": "5f004ff4",
   "metadata": {},
   "source": [
    "# Bank journal entries analyzer"
   ]
  },
  {
   "cell_type": "code",
   "execution_count": null,
   "id": "9a266d3b",
   "metadata": {},
   "outputs": [],
   "source": [
    "# Install the benfordslaw package that we'll use later (run me just once)\n",
    "!pip install benfordslaw"
   ]
  },
  {
   "cell_type": "code",
   "execution_count": 1,
   "id": "261edf90",
   "metadata": {},
   "outputs": [],
   "source": [
    "\n",
    "from benfordslaw import benfordslaw\n",
    "import pandas as pd"
   ]
  },
  {
   "cell_type": "code",
   "execution_count": 2,
   "id": "3f2d5c06",
   "metadata": {},
   "outputs": [],
   "source": [
    "# Read in your dataset with journal entries\n",
    "data = pd.read_excel(\"/content/drive/MyDrive/NBADataScience/Workshop data/bank_journal_data.xlsx\")"
   ]
  },
  {
   "cell_type": "code",
   "execution_count": 3,
   "id": "02e340c0",
   "metadata": {},
   "outputs": [
    {
     "data": {
      "text/html": [
       "<div>\n",
       "<style scoped>\n",
       "    .dataframe tbody tr th:only-of-type {\n",
       "        vertical-align: middle;\n",
       "    }\n",
       "\n",
       "    .dataframe tbody tr th {\n",
       "        vertical-align: top;\n",
       "    }\n",
       "\n",
       "    .dataframe thead th {\n",
       "        text-align: right;\n",
       "    }\n",
       "</style>\n",
       "<table border=\"1\" class=\"dataframe\">\n",
       "  <thead>\n",
       "    <tr style=\"text-align: right;\">\n",
       "      <th></th>\n",
       "      <th>Journal</th>\n",
       "      <th>Journaltype</th>\n",
       "      <th>Period</th>\n",
       "      <th>GL Account</th>\n",
       "      <th>Amount</th>\n",
       "    </tr>\n",
       "  </thead>\n",
       "  <tbody>\n",
       "    <tr>\n",
       "      <th>0</th>\n",
       "      <td>11 Kas</td>\n",
       "      <td>Cash</td>\n",
       "      <td>2</td>\n",
       "      <td>1100 Bank</td>\n",
       "      <td>-157.05</td>\n",
       "    </tr>\n",
       "    <tr>\n",
       "      <th>1</th>\n",
       "      <td>11 Kas</td>\n",
       "      <td>Cash</td>\n",
       "      <td>9</td>\n",
       "      <td>1100 Bank</td>\n",
       "      <td>-189.40</td>\n",
       "    </tr>\n",
       "    <tr>\n",
       "      <th>2</th>\n",
       "      <td>11 Kas</td>\n",
       "      <td>Cash</td>\n",
       "      <td>9</td>\n",
       "      <td>1200 Bank</td>\n",
       "      <td>189.40</td>\n",
       "    </tr>\n",
       "    <tr>\n",
       "      <th>3</th>\n",
       "      <td>12 Bank</td>\n",
       "      <td>Bank</td>\n",
       "      <td>1</td>\n",
       "      <td>1300 Bank</td>\n",
       "      <td>-6772.88</td>\n",
       "    </tr>\n",
       "    <tr>\n",
       "      <th>4</th>\n",
       "      <td>12 Bank</td>\n",
       "      <td>Bank</td>\n",
       "      <td>1</td>\n",
       "      <td>1300 Bank</td>\n",
       "      <td>270.57</td>\n",
       "    </tr>\n",
       "  </tbody>\n",
       "</table>\n",
       "</div>"
      ],
      "text/plain": [
       "   Journal Journaltype  Period GL Account   Amount\n",
       "0   11 Kas        Cash       2  1100 Bank  -157.05\n",
       "1   11 Kas        Cash       9  1100 Bank  -189.40\n",
       "2   11 Kas        Cash       9  1200 Bank   189.40\n",
       "3  12 Bank        Bank       1  1300 Bank -6772.88\n",
       "4  12 Bank        Bank       1  1300 Bank   270.57"
      ]
     },
     "execution_count": 3,
     "metadata": {},
     "output_type": "execute_result"
    }
   ],
   "source": [
    "# Show the 5 first rows\n",
    "data.head()"
   ]
  },
  {
   "cell_type": "markdown",
   "id": "c692cb43",
   "metadata": {},
   "source": [
    "## Create a General Ledger - Journal matrix"
   ]
  },
  {
   "cell_type": "code",
   "execution_count": 4,
   "id": "642ccb7d",
   "metadata": {
    "scrolled": true
   },
   "outputs": [
    {
     "data": {
      "text/html": [
       "<div>\n",
       "<style scoped>\n",
       "    .dataframe tbody tr th:only-of-type {\n",
       "        vertical-align: middle;\n",
       "    }\n",
       "\n",
       "    .dataframe tbody tr th {\n",
       "        vertical-align: top;\n",
       "    }\n",
       "\n",
       "    .dataframe thead th {\n",
       "        text-align: right;\n",
       "    }\n",
       "</style>\n",
       "<table border=\"1\" class=\"dataframe\">\n",
       "  <thead>\n",
       "    <tr style=\"text-align: right;\">\n",
       "      <th>Journal</th>\n",
       "      <th>11 Kas</th>\n",
       "      <th>12 Bank</th>\n",
       "      <th>13 Bank</th>\n",
       "      <th>14 Bank</th>\n",
       "      <th>15 Bank</th>\n",
       "      <th>16 Bank</th>\n",
       "      <th>17 Bank</th>\n",
       "    </tr>\n",
       "    <tr>\n",
       "      <th>GL Account</th>\n",
       "      <th></th>\n",
       "      <th></th>\n",
       "      <th></th>\n",
       "      <th></th>\n",
       "      <th></th>\n",
       "      <th></th>\n",
       "      <th></th>\n",
       "    </tr>\n",
       "  </thead>\n",
       "  <tbody>\n",
       "    <tr>\n",
       "      <th>1100 Bank</th>\n",
       "      <td>-346.45</td>\n",
       "      <td>0.00</td>\n",
       "      <td>0.00</td>\n",
       "      <td>0.00</td>\n",
       "      <td>0</td>\n",
       "      <td>0.00</td>\n",
       "      <td>0.00</td>\n",
       "    </tr>\n",
       "    <tr>\n",
       "      <th>1200 Bank</th>\n",
       "      <td>189.40</td>\n",
       "      <td>-4142706.44</td>\n",
       "      <td>4373138.51</td>\n",
       "      <td>-323.25</td>\n",
       "      <td>-471150</td>\n",
       "      <td>-1283.41</td>\n",
       "      <td>-167.74</td>\n",
       "    </tr>\n",
       "    <tr>\n",
       "      <th>1300 Bank</th>\n",
       "      <td>0.00</td>\n",
       "      <td>933786.99</td>\n",
       "      <td>0.00</td>\n",
       "      <td>0.00</td>\n",
       "      <td>0</td>\n",
       "      <td>0.00</td>\n",
       "      <td>0.00</td>\n",
       "    </tr>\n",
       "    <tr>\n",
       "      <th>1400 Bank</th>\n",
       "      <td>0.00</td>\n",
       "      <td>0.00</td>\n",
       "      <td>-25126.62</td>\n",
       "      <td>0.00</td>\n",
       "      <td>0</td>\n",
       "      <td>0.00</td>\n",
       "      <td>0.00</td>\n",
       "    </tr>\n",
       "    <tr>\n",
       "      <th>1500 Bank</th>\n",
       "      <td>0.00</td>\n",
       "      <td>0.00</td>\n",
       "      <td>0.00</td>\n",
       "      <td>0.00</td>\n",
       "      <td>0</td>\n",
       "      <td>0.00</td>\n",
       "      <td>0.00</td>\n",
       "    </tr>\n",
       "    <tr>\n",
       "      <th>1600 Bank</th>\n",
       "      <td>0.00</td>\n",
       "      <td>0.00</td>\n",
       "      <td>0.00</td>\n",
       "      <td>0.00</td>\n",
       "      <td>471150</td>\n",
       "      <td>0.00</td>\n",
       "      <td>0.00</td>\n",
       "    </tr>\n",
       "    <tr>\n",
       "      <th>1700 Bank</th>\n",
       "      <td>0.00</td>\n",
       "      <td>0.00</td>\n",
       "      <td>0.00</td>\n",
       "      <td>0.00</td>\n",
       "      <td>0</td>\n",
       "      <td>0.00</td>\n",
       "      <td>0.00</td>\n",
       "    </tr>\n",
       "  </tbody>\n",
       "</table>\n",
       "</div>"
      ],
      "text/plain": [
       "Journal     11 Kas     12 Bank     13 Bank  14 Bank  15 Bank  16 Bank  17 Bank\n",
       "GL Account                                                                    \n",
       "1100 Bank  -346.45        0.00        0.00     0.00        0     0.00     0.00\n",
       "1200 Bank   189.40 -4142706.44  4373138.51  -323.25  -471150 -1283.41  -167.74\n",
       "1300 Bank     0.00   933786.99        0.00     0.00        0     0.00     0.00\n",
       "1400 Bank     0.00        0.00   -25126.62     0.00        0     0.00     0.00\n",
       "1500 Bank     0.00        0.00        0.00     0.00        0     0.00     0.00\n",
       "1600 Bank     0.00        0.00        0.00     0.00   471150     0.00     0.00\n",
       "1700 Bank     0.00        0.00        0.00     0.00        0     0.00     0.00"
      ]
     },
     "execution_count": 4,
     "metadata": {},
     "output_type": "execute_result"
    }
   ],
   "source": [
    "# Create a General Ledger - Journal matrix\n",
    "data.pivot_table(index='GL Account', columns='Journal', values='Amount', aggfunc='sum', fill_value=0)"
   ]
  },
  {
   "cell_type": "markdown",
   "id": "54639eb0",
   "metadata": {},
   "source": [
    "## Perform a Benford's Law Analysis"
   ]
  },
  {
   "cell_type": "code",
   "execution_count": 5,
   "id": "c66fc962",
   "metadata": {},
   "outputs": [
    {
     "name": "stdout",
     "output_type": "stream",
     "text": [
      "[benfordslaw] >Analyzing digit position: [1]\n",
      "[benfordslaw] >[chi2] No anomaly detected. P=0.0542381, Tstat=15.2625\n"
     ]
    },
    {
     "data": {
      "image/png": "[encoded data removed]",
      "text/plain": [
       "<Figure size 1080x576 with 1 Axes>"
      ]
     },
     "metadata": {
      "needs_background": "light"
     },
     "output_type": "display_data"
    },
    {
     "data": {
      "text/plain": [
       "(<Figure size 1080x576 with 1 Axes>,\n",
       " <AxesSubplot:title={'center':\"Benford's Law\\nNo anomaly detected. P=0.0542381, Tstat=15.2625\"}, xlabel='Digits', ylabel='Frequency (%)'>)"
      ]
     },
     "execution_count": 5,
     "metadata": {},
     "output_type": "execute_result"
    }
   ],
   "source": [
    "# Conduct a Benford's Law Analysis\n",
    "bl = benfordslaw(alpha=0.01)\n",
    "\n",
    "# Extract election information.\n",
    "X = data['Amount'].values\n",
    "\n",
    "# Make fit\n",
    "results = bl.fit(X)\n",
    "bl.plot(title=\"Benford's Law\")"
   ]
  },
  {
   "cell_type": "code",
   "execution_count": null,
   "id": "96792071",
   "metadata": {},
   "outputs": [],
   "source": []
  }
 ],
 "metadata": {
  "kernelspec": {
   "display_name": "Python 3 (ipykernel)",
   "language": "python",
   "name": "python3"
  },
  "language_info": {
   "codemirror_mode": {
    "name": "ipython",
    "version": 3
   },
   "file_extension": ".py",
   "mimetype": "text/x-python",
   "name": "python",
   "nbconvert_exporter": "python",
   "pygments_lexer": "ipython3",
   "version": "3.9.12"
  }
 },
 "nbformat": 4,
 "nbformat_minor": 5
}
