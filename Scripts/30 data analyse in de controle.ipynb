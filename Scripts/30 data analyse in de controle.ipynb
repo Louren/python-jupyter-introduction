{
 "cells": [
  {
   "cell_type": "markdown",
   "id": "58e49e32",
   "metadata": {},
   "source": [
    "## NBA-handreiking 1141: data-analyse bij de controle"
   ]
  },
  {
   "cell_type": "markdown",
   "id": "3244828b",
   "metadata": {},
   "source": [
    "## 1. Het verkrijgen van de data en het vastellen van de betrouwbaarheid\n",
    "- uitdagingen en aandachtspunten bij dit process\n",
    "- relevantie en betrouwbaarheid"
   ]
  },
  {
   "cell_type": "code",
   "execution_count": 2,
   "id": "2d32ecf6",
   "metadata": {},
   "outputs": [],
   "source": [
    "# Lastig in een notebook om de betrouwbaarheid van de data aan te tonen.\n",
    "# Heb jij hier ideeen over of skippen we deze stap?"
   ]
  },
  {
   "cell_type": "markdown",
   "id": "7d76d873",
   "metadata": {},
   "source": [
    "## 2. Hoe resulteert data-analyse in voldoende en geschikte controle-informatie?\n",
    "- wat is voldoende en geschikt\n",
    "- data-analyse toepassen om bevestigende controle-informatie te verkrijgen\n",
    "- mogelijke fouten ontdekken"
   ]
  },
  {
   "cell_type": "code",
   "execution_count": null,
   "id": "cf19524f",
   "metadata": {},
   "outputs": [],
   "source": []
  },
  {
   "cell_type": "markdown",
   "id": "822efe37",
   "metadata": {},
   "source": [
    "## 3. Hoe gaat de accountants om met de uitkomsten van data-analyse?\n",
    "- het definieren van een norm\n",
    "- nader onderzoek van geconstateerde afwijkingen"
   ]
  },
  {
   "cell_type": "code",
   "execution_count": null,
   "id": "739b37a7",
   "metadata": {},
   "outputs": [],
   "source": []
  },
  {
   "cell_type": "markdown",
   "id": "18f0289e",
   "metadata": {},
   "source": [
    "## 4. Documentatie van de data-analyse werkzaamheden\n",
    "- documentatie uitgevoerde data-analyse\n",
    "- welke data bewaart de accountant"
   ]
  },
  {
   "cell_type": "code",
   "execution_count": null,
   "id": "76ec1cb8",
   "metadata": {},
   "outputs": [],
   "source": []
  }
 ],
 "metadata": {
  "kernelspec": {
   "display_name": "Python 3 (ipykernel)",
   "language": "python",
   "name": "python3"
  },
  "language_info": {
   "codemirror_mode": {
    "name": "ipython",
    "version": 3
   },
   "file_extension": ".py",
   "mimetype": "text/x-python",
   "name": "python",
   "nbconvert_exporter": "python",
   "pygments_lexer": "ipython3",
   "version": "3.9.12"
  }
 },
 "nbformat": 4,
 "nbformat_minor": 5
}
