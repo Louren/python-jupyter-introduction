{
 "cells": [
  {
   "cell_type": "code",
   "execution_count": 1,
   "metadata": {
    "execution": {
     "iopub.execute_input": "2023-09-02T10:05:14.887892Z",
     "iopub.status.busy": "2023-09-02T10:05:14.886978Z",
     "iopub.status.idle": "2023-09-02T10:05:17.760996Z",
     "shell.execute_reply": "2023-09-02T10:05:17.759723Z",
     "shell.execute_reply.started": "2023-09-02T10:05:14.887843Z"
    }
   },
   "outputs": [],
   "source": [
    "# Pandas, NumPy, Matplotlib, and Seaborn\n",
    "import pandas as pd\n",
    "import numpy as np\n",
    "\n",
    "# Machine Learning Algorithms and Scaler\n",
    "from sklearn.linear_model import LogisticRegression\n",
    "from sklearn.ensemble import RandomForestClassifier\n",
    "from sklearn.tree import DecisionTreeClassifier\n",
    "\n",
    "# Evaluation Metrics\n",
    "from sklearn.metrics import accuracy_score, f1_score\n",
    "\n",
    "# Warnings\n",
    "import warnings\n",
    "import matplotlib.pyplot as plt\n",
    "warnings.filterwarnings('ignore')"
   ]
  },
  {
   "cell_type": "markdown",
   "metadata": {},
   "source": [
    "# Data Preprocessing"
   ]
  },
  {
   "cell_type": "code",
   "execution_count": 2,
   "metadata": {},
   "outputs": [],
   "source": [
    "data = pd.read_excel(\"train.xlsx\")\n",
    "trial = pd.read_excel(\"test.xlsx\")"
   ]
  },
  {
   "cell_type": "code",
   "execution_count": 3,
   "metadata": {
    "execution": {
     "iopub.execute_input": "2023-09-02T10:05:21.495523Z",
     "iopub.status.busy": "2023-09-02T10:05:21.494469Z",
     "iopub.status.idle": "2023-09-02T10:05:21.506572Z",
     "shell.execute_reply": "2023-09-02T10:05:21.505399Z",
     "shell.execute_reply.started": "2023-09-02T10:05:21.495487Z"
    }
   },
   "outputs": [],
   "source": [
    "train_x = data.drop(['Risk'], axis = 1)\n",
    "train_y = data['Risk']"
   ]
  },
  {
   "cell_type": "code",
   "execution_count": 4,
   "metadata": {
    "execution": {
     "iopub.execute_input": "2023-09-02T10:05:21.509565Z",
     "iopub.status.busy": "2023-09-02T10:05:21.508227Z",
     "iopub.status.idle": "2023-09-02T10:05:21.521745Z",
     "shell.execute_reply": "2023-09-02T10:05:21.520287Z",
     "shell.execute_reply.started": "2023-09-02T10:05:21.509511Z"
    }
   },
   "outputs": [],
   "source": [
    "test_x = trial.drop(['Risk'], axis = 1)\n",
    "test_y = trial['Risk']"
   ]
  },
  {
   "cell_type": "markdown",
   "metadata": {},
   "source": [
    "# Machine Learning Algorithms"
   ]
  },
  {
   "cell_type": "markdown",
   "metadata": {},
   "source": [
    "We will use the following algorithms:\n",
    "\n",
    "1. Logistic Regression\n",
    "2. Decision Tree\n",
    "3. Random Forest"
   ]
  },
  {
   "cell_type": "markdown",
   "metadata": {},
   "source": [
    "## Logistic Regression"
   ]
  },
  {
   "cell_type": "code",
   "execution_count": 5,
   "metadata": {
    "execution": {
     "iopub.execute_input": "2023-09-02T10:05:21.580568Z",
     "iopub.status.busy": "2023-09-02T10:05:21.580109Z",
     "iopub.status.idle": "2023-09-02T10:05:21.624677Z",
     "shell.execute_reply": "2023-09-02T10:05:21.623507Z",
     "shell.execute_reply.started": "2023-09-02T10:05:21.580534Z"
    }
   },
   "outputs": [],
   "source": [
    "lr = LogisticRegression()\n",
    "\n",
    "# Convert feature names in the test dataset to match the case of training data (Error received earlier)\n",
    "test_x.rename(columns = {'SCORE_A': 'Score_A', 'SCORE_B': 'Score_B'}, inplace = True)\n",
    "\n",
    "lr_model = lr.fit(train_x, train_y)\n",
    "y_predlr = lr_model.predict(test_x)"
   ]
  },
  {
   "cell_type": "code",
   "execution_count": 6,
   "metadata": {
    "execution": {
     "iopub.execute_input": "2023-09-02T10:05:21.627150Z",
     "iopub.status.busy": "2023-09-02T10:05:21.626289Z",
     "iopub.status.idle": "2023-09-02T10:05:21.640486Z",
     "shell.execute_reply": "2023-09-02T10:05:21.639007Z",
     "shell.execute_reply.started": "2023-09-02T10:05:21.627103Z"
    }
   },
   "outputs": [
    {
     "name": "stdout",
     "output_type": "stream",
     "text": [
      "Accuracy With Logistic Regression =  0.44036697247706424\n",
      "F1 Score With Logistic Regression =  0.2136279926335175\n"
     ]
    }
   ],
   "source": [
    "accuracy_lr = accuracy_score(test_y, y_predlr)\n",
    "f1_lr = f1_score(test_y, y_predlr)\n",
    "print('Accuracy With Logistic Regression = ', accuracy_lr)\n",
    "print('F1 Score With Logistic Regression = ', f1_lr)"
   ]
  },
  {
   "cell_type": "markdown",
   "metadata": {},
   "source": [
    "## Decision Tree Classifier"
   ]
  },
  {
   "cell_type": "code",
   "execution_count": 7,
   "metadata": {
    "execution": {
     "iopub.execute_input": "2023-09-02T10:05:21.642900Z",
     "iopub.status.busy": "2023-09-02T10:05:21.642398Z",
     "iopub.status.idle": "2023-09-02T10:05:21.657260Z",
     "shell.execute_reply": "2023-09-02T10:05:21.656017Z",
     "shell.execute_reply.started": "2023-09-02T10:05:21.642858Z"
    }
   },
   "outputs": [],
   "source": [
    "dt = DecisionTreeClassifier()\n",
    "\n",
    "dt_model = dt.fit(train_x, train_y)\n",
    "y_preddt = dt_model.predict(test_x)"
   ]
  },
  {
   "cell_type": "code",
   "execution_count": 8,
   "metadata": {
    "execution": {
     "iopub.execute_input": "2023-09-02T10:05:21.659842Z",
     "iopub.status.busy": "2023-09-02T10:05:21.658565Z",
     "iopub.status.idle": "2023-09-02T10:05:21.670999Z",
     "shell.execute_reply": "2023-09-02T10:05:21.669713Z",
     "shell.execute_reply.started": "2023-09-02T10:05:21.659790Z"
    }
   },
   "outputs": [
    {
     "name": "stdout",
     "output_type": "stream",
     "text": [
      "Accuracy With Decision Tree Classifier =  0.7509829619921363\n",
      "F1 Score With Decision Tree Classifier =  0.7564102564102563\n"
     ]
    }
   ],
   "source": [
    "accuracy_dt = accuracy_score(test_y, y_preddt)\n",
    "f1_dt = f1_score(test_y, y_preddt)\n",
    "print('Accuracy With Decision Tree Classifier = ', accuracy_dt)\n",
    "print('F1 Score With Decision Tree Classifier = ', f1_dt)"
   ]
  },
  {
   "cell_type": "markdown",
   "metadata": {},
   "source": [
    "## Random Forest Classifier"
   ]
  },
  {
   "cell_type": "code",
   "execution_count": 9,
   "metadata": {
    "execution": {
     "iopub.execute_input": "2023-09-02T10:05:21.672930Z",
     "iopub.status.busy": "2023-09-02T10:05:21.672528Z",
     "iopub.status.idle": "2023-09-02T10:05:21.969680Z",
     "shell.execute_reply": "2023-09-02T10:05:21.968595Z",
     "shell.execute_reply.started": "2023-09-02T10:05:21.672892Z"
    }
   },
   "outputs": [],
   "source": [
    "rf = RandomForestClassifier()\n",
    "\n",
    "rf_model = rf.fit(train_x, train_y)\n",
    "y_predrf = rf_model.predict(test_x)"
   ]
  },
  {
   "cell_type": "code",
   "execution_count": 10,
   "metadata": {
    "execution": {
     "iopub.execute_input": "2023-09-02T10:05:21.972012Z",
     "iopub.status.busy": "2023-09-02T10:05:21.971298Z",
     "iopub.status.idle": "2023-09-02T10:05:21.982267Z",
     "shell.execute_reply": "2023-09-02T10:05:21.980851Z",
     "shell.execute_reply.started": "2023-09-02T10:05:21.971971Z"
    }
   },
   "outputs": [
    {
     "name": "stdout",
     "output_type": "stream",
     "text": [
      "Accuracy With Random Forest Classifier =  0.7509829619921363\n",
      "F1 Score With Random Forest Classifier =  0.7564102564102563\n"
     ]
    }
   ],
   "source": [
    "accuracy_rf = accuracy_score(test_y, y_predrf)\n",
    "f1_rf = f1_score(test_y, y_predrf)\n",
    "print('Accuracy With Random Forest Classifier = ', accuracy_rf)\n",
    "print('F1 Score With Random Forest Classifier = ', f1_rf)"
   ]
  },
  {
   "cell_type": "markdown",
   "metadata": {},
   "source": [
    "Since Decison Tree has higher F1 score and accuracy score among all the algorithms used, we will go with Decision Tree Classifier."
   ]
  },
  {
   "cell_type": "code",
   "execution_count": 11,
   "metadata": {
    "execution": {
     "iopub.execute_input": "2023-09-02T10:05:22.012565Z",
     "iopub.status.busy": "2023-09-02T10:05:22.011588Z",
     "iopub.status.idle": "2023-09-02T10:05:22.026871Z",
     "shell.execute_reply": "2023-09-02T10:05:22.025544Z",
     "shell.execute_reply.started": "2023-09-02T10:05:22.012526Z"
    }
   },
   "outputs": [
    {
     "data": {
      "text/html": [
       "<div>\n",
       "<style scoped>\n",
       "    .dataframe tbody tr th:only-of-type {\n",
       "        vertical-align: middle;\n",
       "    }\n",
       "\n",
       "    .dataframe tbody tr th {\n",
       "        vertical-align: top;\n",
       "    }\n",
       "\n",
       "    .dataframe thead th {\n",
       "        text-align: right;\n",
       "    }\n",
       "</style>\n",
       "<table border=\"1\" class=\"dataframe\">\n",
       "  <thead>\n",
       "    <tr style=\"text-align: right;\">\n",
       "      <th></th>\n",
       "      <th>Prediction</th>\n",
       "      <th>Test</th>\n",
       "    </tr>\n",
       "  </thead>\n",
       "  <tbody>\n",
       "    <tr>\n",
       "      <th>0</th>\n",
       "      <td>1</td>\n",
       "      <td>1</td>\n",
       "    </tr>\n",
       "    <tr>\n",
       "      <th>1</th>\n",
       "      <td>0</td>\n",
       "      <td>0</td>\n",
       "    </tr>\n",
       "    <tr>\n",
       "      <th>2</th>\n",
       "      <td>0</td>\n",
       "      <td>0</td>\n",
       "    </tr>\n",
       "    <tr>\n",
       "      <th>3</th>\n",
       "      <td>1</td>\n",
       "      <td>1</td>\n",
       "    </tr>\n",
       "    <tr>\n",
       "      <th>4</th>\n",
       "      <td>0</td>\n",
       "      <td>0</td>\n",
       "    </tr>\n",
       "    <tr>\n",
       "      <th>...</th>\n",
       "      <td>...</td>\n",
       "      <td>...</td>\n",
       "    </tr>\n",
       "    <tr>\n",
       "      <th>758</th>\n",
       "      <td>0</td>\n",
       "      <td>0</td>\n",
       "    </tr>\n",
       "    <tr>\n",
       "      <th>759</th>\n",
       "      <td>0</td>\n",
       "      <td>0</td>\n",
       "    </tr>\n",
       "    <tr>\n",
       "      <th>760</th>\n",
       "      <td>0</td>\n",
       "      <td>0</td>\n",
       "    </tr>\n",
       "    <tr>\n",
       "      <th>761</th>\n",
       "      <td>0</td>\n",
       "      <td>0</td>\n",
       "    </tr>\n",
       "    <tr>\n",
       "      <th>762</th>\n",
       "      <td>0</td>\n",
       "      <td>0</td>\n",
       "    </tr>\n",
       "  </tbody>\n",
       "</table>\n",
       "<p>763 rows × 2 columns</p>\n",
       "</div>"
      ],
      "text/plain": [
       "     Prediction  Test\n",
       "0             1     1\n",
       "1             0     0\n",
       "2             0     0\n",
       "3             1     1\n",
       "4             0     0\n",
       "..          ...   ...\n",
       "758           0     0\n",
       "759           0     0\n",
       "760           0     0\n",
       "761           0     0\n",
       "762           0     0\n",
       "\n",
       "[763 rows x 2 columns]"
      ]
     },
     "execution_count": 11,
     "metadata": {},
     "output_type": "execute_result"
    }
   ],
   "source": [
    "# Lets View Our Test and Prediction Data:\n",
    "pred_data = pd.DataFrame(np.column_stack((y_preddt, test_y)), columns = ['Prediction', 'Test'])\n",
    "pred_data"
   ]
  },
  {
   "cell_type": "code",
   "execution_count": 12,
   "metadata": {},
   "outputs": [
    {
     "data": {
      "image/png": "[encoded data removed]",
      "text/plain": [
       "<Figure size 432x288 with 1 Axes>"
      ]
     },
     "metadata": {
      "needs_background": "light"
     },
     "output_type": "display_data"
    }
   ],
   "source": [
    "# See what features are the most important for the prediction.\n",
    "forest_importances = pd.Series(rf.feature_importances_, index=test_x.columns).sort_values(ascending=False)\n",
    "\n",
    "fig, ax = plt.subplots()\n",
    "forest_importances.plot.bar(ax=ax)\n",
    "ax.set_title(\"Feature importances using MDI\")\n",
    "ax.set_ylabel(\"Mean decrease in impurity\")\n",
    "fig.tight_layout()"
   ]
  },
  {
   "cell_type": "markdown",
   "metadata": {},
   "source": [
    "# Conclusion"
   ]
  },
  {
   "cell_type": "markdown",
   "metadata": {},
   "source": [
    "In this audit risk prediction project, we embarked on a comprehensive data analysis journey, leveraging various data preprocessing techniques and machine learning algorithms to develop an effective predictive model. \n",
    "\n",
    "Our initial steps involved importing essential libraries and loading two datasets, \"data\" and \"trial.\" Label encoding was applied to convert categorical variables into a numerical format, making them suitable for machine learning algorithms.\n",
    "\n",
    "We applied three machine learning algorithms: Logistic Regression, Decision Tree Classifier, and Random Forest Classifier. Among these, the Decision Tree Classifier demonstrated the best performance, exhibiting high accuracy and F1 score. To further enhance model performance, we introduced standard scaling to our data, resulting in improved accuracy and F1 score metrics.\n",
    "\n",
    "In conclusion, this project highlights the significance of data preprocessing and feature engineering in the development of a robust predictive model for audit risk assessment. The Decision Tree Classifier, when combined with appropriate feature selection and scaling, emerged as the most effective approach for this specific task. Nevertheless, continuous optimization and fine-tuning remain essential to meet evolving requirements and ensure the model's reliability in real-world audit risk prediction scenarios."
   ]
  }
 ],
 "metadata": {
  "kernelspec": {
   "display_name": "Python 3 (ipykernel)",
   "language": "python",
   "name": "python3"
  },
  "language_info": {
   "codemirror_mode": {
    "name": "ipython",
    "version": 3
   },
   "file_extension": ".py",
   "mimetype": "text/x-python",
   "name": "python",
   "nbconvert_exporter": "python",
   "pygments_lexer": "ipython3",
   "version": "3.9.12"
  }
 },
 "nbformat": 4,
 "nbformat_minor": 4
}
