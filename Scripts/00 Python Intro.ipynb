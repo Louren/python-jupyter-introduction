{
 "cells": [
  {
   "attachments": {},
   "cell_type": "markdown",
   "metadata": {},
   "source": [
    "# Python for Financial Auditors and Accountants\n",
    "\n",
    "Welcome! This notebook will introduce you to the basics of Python programming, which (after some further learning) you can use to simplify and enhance your tasks related to accounting and auditing."
   ]
  },
  {
   "cell_type": "markdown",
   "metadata": {},
   "source": [
    "[![Run in Google Collab](https://img.shields.io/badge/Run%20in%20Google%20Collab-grey?logo=googlecolab)](https://colab.research.google.com/github/Louren/python-jupyter-introduction/blob/main/00%20Python%20Intro.ipynb)"
   ]
  },
  {
   "attachments": {},
   "cell_type": "markdown",
   "metadata": {},
   "source": [
    "## Introduction to Python\n",
    "Python is a powerful general-purpose programming language. It is simple and easy to learn. It has efficient high-level data structures and a simple but effective approach to object-oriented programming. Python's simplicity and readability make it a great language for beginners.\n",
    "\n",
    "Python is a popular language in many fields, including accounting and auditing. It is used for data analysis, data visualization, and automation of repetitive tasks. It is also used for machine learning and artificial intelligence.\n",
    "\n",
    "## Contents\n",
    "In this Notebook we will discuss basic programming principles, such as 'variables' and data types. And we'll make a basic calculator.\n",
    "\n",
    "Some hints\n",
    "* Feel free to follow along by pressing \"play\" next to the code blocks.\n",
    "* Then experiment with the code a bit, and run again.\n",
    "* The lines marked with a `#` are comments. They are not ignored by Python and are there just for readability."
   ]
  },
  {
   "attachments": {},
   "cell_type": "markdown",
   "metadata": {},
   "source": [
    "## Basic Arithmetic\n",
    "Python performs basic arithmetic operations like any other programming languages namely addition, subtraction, multiplication, and division."
   ]
  },
  {
   "cell_type": "code",
   "execution_count": null,
   "metadata": {},
   "outputs": [],
   "source": [
    "2"
   ]
  },
  {
   "cell_type": "code",
   "execution_count": null,
   "metadata": {},
   "outputs": [],
   "source": [
    "2 + 2"
   ]
  },
  {
   "cell_type": "code",
   "execution_count": null,
   "metadata": {},
   "outputs": [],
   "source": [
    "22 / 7"
   ]
  },
  {
   "cell_type": "code",
   "execution_count": null,
   "metadata": {},
   "outputs": [],
   "source": [
    "\"Hello NBA!\""
   ]
  },
  {
   "cell_type": "markdown",
   "metadata": {},
   "source": [
    "## Python Variables\n",
    "<p><img src=\"image.png\" width=\"300\" style=\"float:right;\">In Python, variables are storage placeholders for storing different types of data.\n",
    "\n",
    "Variables are created when you assign a value to it. For example, the following code creates a variable named <code>spam</code> and assigns the value <code>40</code> to it.</p>\n",
    "\n",
    "</p>"
   ]
  },
  {
   "cell_type": "code",
   "execution_count": 1,
   "metadata": {},
   "outputs": [],
   "source": [
    "# Here is an example of how to create a variable:\n",
    "spam = 40"
   ]
  },
  {
   "cell_type": "code",
   "execution_count": 2,
   "metadata": {},
   "outputs": [
    {
     "data": {
      "text/plain": [
       "40"
      ]
     },
     "execution_count": 2,
     "metadata": {},
     "output_type": "execute_result"
    }
   ],
   "source": [
    "spam"
   ]
  },
  {
   "cell_type": "code",
   "execution_count": 3,
   "metadata": {},
   "outputs": [],
   "source": [
    "eggs = 2"
   ]
  },
  {
   "cell_type": "code",
   "execution_count": 4,
   "metadata": {},
   "outputs": [
    {
     "data": {
      "text/plain": [
       "42"
      ]
     },
     "execution_count": 4,
     "metadata": {},
     "output_type": "execute_result"
    }
   ],
   "source": [
    "spam + eggs"
   ]
  },
  {
   "cell_type": "code",
   "execution_count": 5,
   "metadata": {},
   "outputs": [],
   "source": [
    "spam = spam + 2"
   ]
  },
  {
   "cell_type": "code",
   "execution_count": 6,
   "metadata": {},
   "outputs": [
    {
     "data": {
      "text/plain": [
       "42"
      ]
     },
     "execution_count": 6,
     "metadata": {},
     "output_type": "execute_result"
    }
   ],
   "source": [
    "spam"
   ]
  },
  {
   "attachments": {},
   "cell_type": "markdown",
   "metadata": {},
   "source": [
    "## Data Types\n",
    "Every value in Python has a datatype. Python supports numerous data types like integer, float, string, and complex."
   ]
  },
  {
   "cell_type": "markdown",
   "metadata": {},
   "source": [
    "### Strings (tekst)"
   ]
  },
  {
   "cell_type": "code",
   "execution_count": null,
   "metadata": {},
   "outputs": [],
   "source": [
    "spam = \"Hello\""
   ]
  },
  {
   "cell_type": "code",
   "execution_count": null,
   "metadata": {},
   "outputs": [],
   "source": [
    "spam"
   ]
  },
  {
   "cell_type": "code",
   "execution_count": null,
   "metadata": {},
   "outputs": [],
   "source": [
    "spam = \"Goodbye\""
   ]
  },
  {
   "cell_type": "markdown",
   "metadata": {},
   "source": [
    "### Other data types"
   ]
  },
  {
   "cell_type": "code",
   "execution_count": 7,
   "metadata": {},
   "outputs": [
    {
     "name": "stdout",
     "output_type": "stream",
     "text": [
      "<class 'int'>\n",
      "<class 'float'>\n",
      "<class 'str'>\n"
     ]
    }
   ],
   "source": [
    "# Here are examples of different datatypes:\n",
    "x = 10                # int\n",
    "y = 10.5              # float\n",
    "z = 'Hello World!'    # string\n",
    "print(type(x))\n",
    "print(type(y))\n",
    "print(type(z))"
   ]
  },
  {
   "cell_type": "code",
   "execution_count": null,
   "metadata": {},
   "outputs": [],
   "source": []
  },
  {
   "cell_type": "markdown",
   "metadata": {},
   "source": [
    "# Functions in Python"
   ]
  },
  {
   "cell_type": "markdown",
   "metadata": {},
   "source": [
    "Programmers are lazy.\n",
    "\n",
    "That's why 'functions' were invented.\n",
    "\n",
    "A function is a block of code which can be 'called' from other places in your code. This way you can reuse code, and make your code more readable.\n",
    "\n",
    "It's also a good way to build on the work of others. For example, you can use the `sum(...)` function to calculate the sum of a list of numbers. You don't need to know how it works behind the scenes, you just need to call the function."
   ]
  },
  {
   "cell_type": "code",
   "execution_count": 8,
   "metadata": {},
   "outputs": [],
   "source": [
    "numbers = [4, 1, 2]\n"
   ]
  },
  {
   "cell_type": "code",
   "execution_count": 14,
   "metadata": {},
   "outputs": [
    {
     "data": {
      "text/plain": [
       "7"
      ]
     },
     "execution_count": 14,
     "metadata": {},
     "output_type": "execute_result"
    }
   ],
   "source": [
    "sum(numbers)"
   ]
  },
  {
   "cell_type": "markdown",
   "metadata": {},
   "source": [
    "What happened in this code?\n",
    "* We called the Python function `sum`, which works much like the Excel function `SUM`.\n",
    "* Just as in Excel, we need to tell Python which numbers to sum.\n",
    "* We did this by passing the \"variable\" `numbers`"
   ]
  },
  {
   "cell_type": "code",
   "execution_count": null,
   "metadata": {},
   "outputs": [],
   "source": [
    "sorted(numbers)"
   ]
  },
  {
   "cell_type": "code",
   "execution_count": null,
   "metadata": {},
   "outputs": [],
   "source": [
    "# Assignment: calculate the length of the list, using the len function\n",
    "len(FILL_IN_HERE)"
   ]
  },
  {
   "cell_type": "code",
   "execution_count": null,
   "metadata": {},
   "outputs": [],
   "source": [
    "# Assignment: calculate the largest (maxium) value of the list, using the max function\n",
    "max(FILL_IN_HERE)"
   ]
  },
  {
   "cell_type": "markdown",
   "metadata": {},
   "source": [
    "As yoyu may notice, functions and variables tie nicely together. Functions are a way to group code together, and variables are a way to store data.\n",
    "\n",
    "Quite often you will call a function and pass one or more variables, like you did in the 'sum' function."
   ]
  }
 ],
 "metadata": {
  "kernelspec": {
   "display_name": "Python 3",
   "language": "python",
   "name": "python3"
  },
  "language_info": {
   "codemirror_mode": {
    "name": "ipython",
    "version": 3
   },
   "file_extension": ".py",
   "mimetype": "text/x-python",
   "name": "python",
   "nbconvert_exporter": "python",
   "pygments_lexer": "ipython3",
   "version": "3.10.5"
  },
  "orig_nbformat": 4
 },
 "nbformat": 4,
 "nbformat_minor": 2
}
