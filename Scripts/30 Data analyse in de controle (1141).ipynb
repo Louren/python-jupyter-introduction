{
 "cells": [
  {
   "cell_type": "markdown",
   "id": "58e49e32",
   "metadata": {},
   "source": [
    "## NBA-handreiking 1141: data-analyse bij de controle"
   ]
  },
  {
   "cell_type": "markdown",
   "id": "db6abd9c",
   "metadata": {},
   "source": [
    "Dit memo is afgeleid van de bij JOINSON&amp;SPICE intern gehanteerde templates. We verstrekken dit als voorbeeld voor cursisten, en hanteren daarbij de stappen van de [NBA Handreiking 1141](https://www.nba.nl/wet-en-regelgeving/gedrags-en-beroepsregels/nba-handreiking-1141/). Dit memo is niet volledig maar is bedoeld als vastlegging, om in samenloop met de Handreiking te hanteren.\n",
    "\n",
    "Door de stappen van de handreiking te implementeren kun je op dossierniveau aantonen dat je met deze analyse hebt voldaan aan de standaarden.\n",
    "\n",
    "Kenmerkend aan dit Notebook is dat zowel de documentatie als de (Python) analyse hier bij elkaar komen. Zo kan de accountant effectief samenwerken met data specialisten of programmeurs."
   ]
  },
  {
   "cell_type": "markdown",
   "id": "505b7abc",
   "metadata": {},
   "source": [
    "# Doel van de analyse\n",
    "\n",
    "Het doel van deze analyse is zekerheid te krijgen bij de volgende posten en beweringen:\n",
    "* Volledigheid en afgrenzing van de opbrengstverantwoording\n",
    "* Waardering van de debiteuren\n",
    "\n",
    "Om dit doel te bereiken zal een vergelijking worden opgesteld tussen de volgende datasets:\n",
    "1. Grootboekdata van het verkoopdagboek (GL transactieregels)\n",
    "2. ... (specifiek maken)\n",
    "\n",
    "Met behulp van Python worden hierop vervolgens de volgende analyses uitgevoerd:\n",
    "* Bijv. verbandscontrole\n",
    "* Bijv. outlier analyse\n",
    "* Bijv. gegevensgerichte cijferanalyse\n",
    "\n",
    "We zullen deze analyse in de volgende hoofstukken verder documenteren en uitvoeren. Voor het uitvoeren van de analyse wordt gebruik gemaakt van Python code die in het notebook is opgenomen. Zodoende is de analyse reproduceerbaar en kan deze worden herhaald bij een nieuwe dataset. Bovendien kan de code door een (voldoende ervaren) accountant worden gereviewed om de kwaliteit te borgen."
   ]
  },
  {
   "cell_type": "markdown",
   "id": "d004440c",
   "metadata": {},
   "source": [
    "# Voorbereiding van de analyse"
   ]
  },
  {
   "cell_type": "code",
   "execution_count": null,
   "id": "d7b85df2",
   "metadata": {},
   "outputs": [],
   "source": [
    "\n",
    "import pandas as pd\n",
    "import numpy as np\n",
    "\n",
    "# Voor de meer ervaren data-analisten: \n",
    "# Voor het overzicht van dit Notebook kan het slim zijn om logica naar een apart .py bestand te verplaatsen. \n",
    "# Schrijf bijvoorbeeld enkele functies en importeer deze in dit Notebook. Zo blijft het notebook goed leesbaar."
   ]
  },
  {
   "cell_type": "markdown",
   "id": "3244828b",
   "metadata": {},
   "source": [
    "## 1. Het verkrijgen van de data en het vastellen van de betrouwbaarheid\n",
    "\n",
    "Op grond van Standaard 500, paragraaf 7 dient de accountant te overwegen in welke mate de informatie die als controle-informatie wordt gebruikt relevant en betrouwbaar is. \n",
    "\n",
    "*Suggestie: Zie bijlage 2 van de NBA-handreiking 1141 voor een voorbeeld van een vastlegging van de betrouwbaarheid van de data.*"
   ]
  },
  {
   "cell_type": "markdown",
   "id": "b502bcf0",
   "metadata": {},
   "source": [
    "### Relevantie\n",
    "\n",
    "**Relevantie gaat vooral over de logische samenhang met, of invloed op, het doel van de controlemaatregel en, in voorkomend geval, de bewering in kwestie (Zie Standaard 500, Par. A27).**\n",
    "\n",
    "We hebben de analyse opgezet zoals hierboven beschreven. De analyse is daarmee relevant voor het doel van de controlemaatregel en de beweringen in kwestie. \n",
    "\n",
    "*Suggestie 1: neem hier een korte beschrijving op van de analyse en de relatie met de beweringen. Waarom worden bepaalde beweringen geraakt met deze dataset?*\n",
    "\n",
    "*Suggestie 2: Beschrijf hier de verschillende datasets. Houdt daarbij ook rekening met de granulariteit. Is data bijvoorbeeld geaggregeerd of op detailniveau beschikbaar?*\n"
   ]
  },
  {
   "cell_type": "markdown",
   "id": "2f275ed7",
   "metadata": {},
   "source": [
    "### Betrouwbaarheid\n",
    "**De betrouwbaarheid van digitale data wordt veelal aangeduid als data-integriteit.**\n",
    "\n",
    "Om de betrouwbaarheid van de dataset te toetsen zullen we de volgende controles uitvoeren:\n",
    "\n",
    "* Berekenen van controletotalen en aansluiten op het grootboek\n",
    "* Uitvoeren van diverse controles op de datakwaliteit (bijv. ontbrekende velden, extreme waarden)\n",
    "* Het zelfstandig ophalen en verwerken (ETL) van de data, rechtstreeks uit de brontabel\n",
    "\n",
    "Wij verwijzen verder naar de conclusies van de door ons uitgevoerde IT Audit. De onderzochte GITC's en IT Dependencies dragen bij aan de betrouwbaarheid van de data. We steunen wel/niet op de GITC's, en voerden daarom wel/niet aanvullende data-controles uit."
   ]
  },
  {
   "cell_type": "markdown",
   "id": "729e8032",
   "metadata": {},
   "source": [
    "### Uitgevoerde Python analyses voor betrouwbaarheid"
   ]
  },
  {
   "cell_type": "code",
   "execution_count": null,
   "id": "f39a6379",
   "metadata": {},
   "outputs": [],
   "source": [
    "# Todo: controletotalen berekenen en aansluiten\n"
   ]
  },
  {
   "cell_type": "code",
   "execution_count": null,
   "id": "c016a94b",
   "metadata": {},
   "outputs": [],
   "source": [
    "# Todo: analyse datakwaliteit (bijv. ontbrekende waarden)"
   ]
  },
  {
   "cell_type": "code",
   "execution_count": null,
   "id": "79b8bf1d",
   "metadata": {},
   "outputs": [],
   "source": [
    "# Todo: etc.."
   ]
  },
  {
   "cell_type": "markdown",
   "id": "7d76d873",
   "metadata": {},
   "source": [
    "## 2. Hoe resulteert data-analyse in voldoende en geschikte controle-informatie?\n",
    "\n",
    "Dit hoofdstuk moet specifiek worden geschreven obv de gekozen aanpak. Enkele tips/suggesties:\n",
    "* Als de analyse geschikt is op het **verkrijgen van voldoende zekerheid** (c.q. bevestigende controle-informatie cf hoofdstuk 6.2 van de hanreiking) dan wordt vaak gewerkt met IST en SOLL, of (in data-termen) Observed (IST) en Expected (SOLL). De code hieronder zal dan stapsgewijs een SOLL-positie opbouwen, en die vervolgens met de IST vergelijken. Het gaat hier vaak om aansluitingen tussen verschillende bestanden/dasets, en is vooral sterk als er externe/betrouwbare bronnen zijn die als SOLL kunnen dienen.\n",
    "* Een andere veelgebruikte methode is het 'falsifieren' van mogelijke risico's (hoofdstuk 6.3 van de hanreiking). Door een lijst van \"What could go wrong\"'s te definieren, kunnen deze vervolgens worden gefalsifieerd. Een voorbeeld kan zijn: 'er zijn geen kortingen gegeven groter dan 10% van het factuurtotaal'. Met behulp van Python code wordt de korting per factuur berekend, en kan de accountant rapporteren of de hypothese gefalsifieerd is. Nadeel van deze aanpak is dat vaak niet alle (theoretisch mogelijke) risico's te bedenken zijn."
   ]
  },
  {
   "cell_type": "code",
   "execution_count": null,
   "id": "c239ed49",
   "metadata": {},
   "outputs": [],
   "source": [
    "# Todo: opbouwen van IST en SOLL, of falsifieren van mogelijke fouten.\n"
   ]
  },
  {
   "cell_type": "markdown",
   "id": "822efe37",
   "metadata": {},
   "source": [
    "## 3. Hoe gaat de accountants om met de uitkomsten van data-analyse?\n",
    "\n",
    "De in de Hanreiking genoemde stappen zijn:\n",
    "1. Het definieren van een norm\n",
    "2. Nader onderzoek van geconstateerde afwijkingen"
   ]
  },
  {
   "cell_type": "code",
   "execution_count": null,
   "id": "739b37a7",
   "metadata": {},
   "outputs": [],
   "source": [
    "# Todo: berekenen en evalueren van de resultaten op basis van bijv. de IST en SOLL"
   ]
  },
  {
   "cell_type": "markdown",
   "id": "be1b09c2",
   "metadata": {},
   "source": [
    "Indien tijdens de analyse afwijkingen of onverwachte patronen zijn gevonden, dienen deze te worden onderzocht. De handreiking geeft in hoofdstuk 7.2 een aantal suggesties.\n",
    "\n",
    "Neem hier een conclusie op waarom de uitgevoerde werkzaamheden leiden tot de conclusie dat er voldoende zekerheid is gekregen, conform de beschrijving in stap 1."
   ]
  },
  {
   "cell_type": "markdown",
   "id": "18f0289e",
   "metadata": {},
   "source": [
    "## 4. Documentatie van de data-analyse werkzaamheden\n",
    "1. Documentatie uitgevoerde data-analyse\n",
    "2. Welke data bewaart de accountant"
   ]
  },
  {
   "cell_type": "code",
   "execution_count": null,
   "id": "76ec1cb8",
   "metadata": {},
   "outputs": [],
   "source": []
  }
 ],
 "metadata": {
  "kernelspec": {
   "display_name": "Python 3 (ipykernel)",
   "language": "python",
   "name": "python3"
  },
  "language_info": {
   "codemirror_mode": {
    "name": "ipython",
    "version": 3
   },
   "file_extension": ".py",
   "mimetype": "text/x-python",
   "name": "python",
   "nbconvert_exporter": "python",
   "pygments_lexer": "ipython3",
   "version": "3.9.12"
  }
 },
 "nbformat": 4,
 "nbformat_minor": 5
}
