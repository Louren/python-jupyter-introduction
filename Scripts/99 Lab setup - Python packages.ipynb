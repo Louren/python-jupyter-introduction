{
 "cells": [
  {
   "cell_type": "markdown",
   "metadata": {},
   "source": [
    "## Python Libraries for Finance\n",
    "We will introduce two primary libraries used in finance: \n",
    "- Pandas: for data manipulation and analysis.\n",
    "- Matplotlib: for data visualization."
   ]
  },
  {
   "cell_type": "markdown",
   "metadata": {},
   "source": [
    "## Install Libraries\n",
    "The first thing you need to do is to install these libraries. You can do this by using the command \"pip install\"."
   ]
  },
  {
   "cell_type": "code",
   "execution_count": null,
   "metadata": {},
   "outputs": [],
   "source": [
    "!pip install pandas\n",
    "!pip install matplotlib\n",
    "!pip install benfordslaw"
   ]
  },
  {
   "cell_type": "markdown",
   "metadata": {},
   "source": [
    "## Pandas\n",
    "Pandas provides high-performance, easy-to-use data structures and data analysis tools. We'll start by looking at the dataframe and reading data from a CSV file."
   ]
  },
  {
   "cell_type": "code",
   "execution_count": null,
   "metadata": {},
   "outputs": [],
   "source": [
    "import pandas as pd\n",
    "\n",
    "# Replace 'file.csv' with your file name.\n",
    "data = pd.read_csv('fin-data.csv')\n",
    "\n",
    "# Dsiplay the first 5 rows of the dataframe.\n",
    "data.head()"
   ]
  },
  {
   "cell_type": "markdown",
   "metadata": {},
   "source": [
    "## Matplotlib\n",
    "Matplotlib is a plotting library for the Python programming language. It allows you to create static, animated, and interactive plots in Python.\n"
   ]
  },
  {
   "cell_type": "code",
   "execution_count": null,
   "metadata": {},
   "outputs": [],
   "source": [
    "import matplotlib.pyplot as plt\n",
    "\n",
    "# a simple line plot\n",
    "plt.plot([1, 2, 3, 4], [1, 4, 9, 16])\n",
    "plt.ylabel('some numbers')\n",
    "plt.xlabel('some numbers')\n",
    "plt.show()"
   ]
  }
 ],
 "metadata": {
  "language_info": {
   "name": "python"
  },
  "orig_nbformat": 4
 },
 "nbformat": 4,
 "nbformat_minor": 2
}
