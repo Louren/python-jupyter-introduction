{
 "cells": [
  {
   "cell_type": "markdown",
   "metadata": {
    "id": "c2hCJObMRAPD"
   },
   "source": [
    "# Training Digital Auditing"
   ]
  },
  {
   "cell_type": "markdown",
   "metadata": {
    "id": "2H8IK00vRAPD"
   },
   "source": [
    "## Code Workshop: mastering the AI assistant"
   ]
  },
  {
   "cell_type": "code",
   "execution_count": null,
   "metadata": {
    "colab": {
     "base_uri": "https://localhost:8080/"
    },
    "id": "7ydPCCL7RIKU",
    "outputId": "23b170d3-976c-4fee-d3b0-d766574ebd49"
   },
   "outputs": [],
   "source": [
    "# Initiate Google Drive connection\n",
    "from google.colab import drive\n",
    "drive.mount('/content/drive')"
   ]
  },
  {
   "cell_type": "code",
   "execution_count": null,
   "metadata": {
    "id": "vUDyvgWHRAPE"
   },
   "outputs": [],
   "source": [
    "\n",
    "import pandas as pd\n",
    "import os\n"
   ]
  },
  {
   "cell_type": "code",
   "execution_count": null,
   "metadata": {
    "colab": {
     "base_uri": "https://localhost:8080/",
     "height": 469
    },
    "id": "llXoct-KRAPE",
    "outputId": "f6f855ec-f3d5-4a17-a8e9-cb6faa065a1c"
   },
   "outputs": [],
   "source": [
    "# Read in your dataset with journal entries\n",
    "gl_data = pd.read_excel(\"/content/drive/MyDrive/NBADataScience/Audit cases/DigiJazz_transactions.xlsx\", sheet_name=\"GLData\")\n",
    "\n",
    "# Disable scientific notation, and enable thousand separator\n",
    "pd.options.display.float_format = '{:,.2f}'.format\n",
    "\n",
    "gl_data.head(5)"
   ]
  },
  {
   "cell_type": "markdown",
   "metadata": {
    "id": "YjaO7MPIYXVF"
   },
   "source": [
    "We hebben de volgende kolommen in onze dataset:"
   ]
  },
  {
   "cell_type": "code",
   "execution_count": null,
   "metadata": {
    "colab": {
     "base_uri": "https://localhost:8080/"
    },
    "id": "v05CWnkDYNCH",
    "outputId": "f3ca08bb-fa79-4642-c2b8-fab56af1be91"
   },
   "outputs": [],
   "source": [
    "gl_data.columns"
   ]
  },
  {
   "cell_type": "markdown",
   "metadata": {
    "id": "-lo63PcaZD6J"
   },
   "source": [
    "### Maak een 'AmountNet' kolom"
   ]
  },
  {
   "cell_type": "code",
   "execution_count": null,
   "metadata": {
    "id": "2J0QrreRZFcM"
   },
   "outputs": [],
   "source": [
    "# Set AmountNet to 1x the Amount for Debit transactions\n",
    "gl_data.loc[gl_data['Debit/Credit'] == 'Debit', 'AmountNet'] = gl_data['Amount']\n",
    "# Set AmountNet to 1x the Amount for Credit transactions\n",
    "gl_data.loc[gl_data['Debit/Credit'] != 'Debit', 'AmountNet'] = gl_data['Amount'] * -1"
   ]
  },
  {
   "cell_type": "markdown",
   "metadata": {
    "id": "r81-cu6ZRAPE"
   },
   "source": [
    "### Q1. Maak een Trial Balance om aan te sluiten op het dossier:"
   ]
  },
  {
   "cell_type": "code",
   "execution_count": null,
   "metadata": {
    "colab": {
     "base_uri": "https://localhost:8080/",
     "height": 802
    },
    "id": "0ypmRcyrYNFp",
    "outputId": "ac28e2ca-e4df-44eb-b31a-e6c796714104"
   },
   "outputs": [],
   "source": [
    "gl_data.groupby('Account')['AmountNet'].sum().reset_index()"
   ]
  },
  {
   "cell_type": "code",
   "execution_count": null,
   "metadata": {
    "id": "2KqFHK5cYNK5"
   },
   "outputs": [],
   "source": []
  },
  {
   "cell_type": "code",
   "execution_count": null,
   "metadata": {
    "id": "a0rG_p7QXxSF"
   },
   "outputs": [],
   "source": []
  },
  {
   "cell_type": "code",
   "execution_count": null,
   "metadata": {
    "id": "oKM7XXtpYiGn"
   },
   "outputs": [],
   "source": [
    "##"
   ]
  },
  {
   "cell_type": "markdown",
   "metadata": {
    "id": "TnuPTPkSXz9d"
   },
   "source": [
    "# Revenue analysis"
   ]
  },
  {
   "cell_type": "markdown",
   "metadata": {
    "id": "nKUcYqLHYsnM"
   },
   "source": [
    "### Exploration"
   ]
  },
  {
   "cell_type": "markdown",
   "metadata": {},
   "source": [
    "GL/Journal matrix, analyzing the Journals posting on revenue:"
   ]
  },
  {
   "cell_type": "code",
   "execution_count": null,
   "metadata": {
    "colab": {
     "base_uri": "https://localhost:8080/",
     "height": 143
    },
    "id": "5JGHyt0XX00I",
    "outputId": "ea181cb5-3c7b-4120-81f8-cde1cf9d2310"
   },
   "outputs": [],
   "source": [
    "df_revenue = gl_data[gl_data['AccountType'] == 'Revenue']\n",
    "\n",
    "# Create a GL/Journal matrix\n",
    "df_revenue.pivot_table(index='Account', columns='JournalDesc', values='AmountNet', aggfunc='sum')"
   ]
  },
  {
   "cell_type": "markdown",
   "metadata": {},
   "source": [
    "GL/Journal matrix, analyzing the GL accounts posting using the sales journal:"
   ]
  },
  {
   "cell_type": "code",
   "execution_count": null,
   "metadata": {},
   "outputs": [],
   "source": [
    "df_revenue_journal = gl_data[gl_data['JournalType'] == 'Sales']\n",
    "\n",
    "# Create a GL/Journal matrix\n",
    "df_revenue_journal.pivot_table(index='Account', columns='JournalDesc', values='AmountNet', aggfunc='sum')"
   ]
  },
  {
   "cell_type": "markdown",
   "metadata": {},
   "source": [
    "Plot of revenue over time:"
   ]
  },
  {
   "cell_type": "code",
   "execution_count": null,
   "metadata": {
    "colab": {
     "base_uri": "https://localhost:8080/",
     "height": 508
    },
    "id": "G9aQek32ZLoE",
    "outputId": "06e336fe-bc5c-47d8-f2fb-594cb91b48c0"
   },
   "outputs": [],
   "source": [
    "import matplotlib.pyplot as plt\n",
    "\n",
    "data = df_revenue.groupby('Period')['Amount'].sum()\n",
    "x = data.index\n",
    "y = data.values\n",
    "\n",
    "# Create a bar chart\n",
    "plt.bar(x, y) # <---- changed from plot to bar! Easy as that.\n",
    "\n",
    "# Add labels and a title\n",
    "plt.xlabel('Period')\n",
    "plt.ylabel('Revenue')\n",
    "plt.title('Revenue per Period')\n",
    "plt.xticks(rotation=45) # Rotate the x-axis labels\n",
    "\n",
    "# Show the plot\n",
    "plt.show()"
   ]
  },
  {
   "cell_type": "markdown",
   "metadata": {
    "id": "N6JN0tpaYrNe"
   },
   "source": [
    "### Reconcile Revenue to Sales Journal"
   ]
  },
  {
   "cell_type": "code",
   "execution_count": null,
   "metadata": {
    "id": "6jr5i7CCYt7c"
   },
   "outputs": [],
   "source": [
    "# Create a pivot table\n",
    "df_revenue.pivot_table(index='User', columns='JournalDesc', values='AmountNet', aggfunc='sum')"
   ]
  },
  {
   "cell_type": "markdown",
   "metadata": {
    "id": "g0nGjxcrX2_-"
   },
   "source": [
    "### Risk analysis: understanding"
   ]
  },
  {
   "cell_type": "code",
   "execution_count": null,
   "metadata": {
    "colab": {
     "base_uri": "https://localhost:8080/"
    },
    "id": "LUDtM6zGX3sy",
    "outputId": "c4a775d7-3b96-4dad-f328-f9fa03ccdbfb"
   },
   "outputs": [],
   "source": [
    "# Mean transaction amount\n",
    "df_revenue['Amount'].mean()"
   ]
  },
  {
   "cell_type": "code",
   "execution_count": null,
   "metadata": {
    "colab": {
     "base_uri": "https://localhost:8080/"
    },
    "id": "BQLuw0pNX5jK",
    "outputId": "5857ab6b-7eb8-40d0-bd46-8ecc4191bc35"
   },
   "outputs": [],
   "source": [
    "# Max transaction amount\n",
    "df_revenue['Amount'].max()"
   ]
  },
  {
   "cell_type": "code",
   "execution_count": null,
   "metadata": {
    "colab": {
     "base_uri": "https://localhost:8080/",
     "height": 112
    },
    "id": "Wj0lHrX1X6hO",
    "outputId": "e143efdd-81a8-49b1-cd9e-478bb81ad4c9"
   },
   "outputs": [],
   "source": [
    "# Groupby, sum and make sure no scientific notation is used\n",
    "df_revenue.groupby('User')['Amount'].sum().apply(lambda x: '%.0f' % x).reset_index()"
   ]
  },
  {
   "cell_type": "code",
   "execution_count": null,
   "metadata": {
    "id": "N6gH7WaVY63Q"
   },
   "outputs": [],
   "source": []
  },
  {
   "cell_type": "markdown",
   "metadata": {
    "id": "LwCcPSm9Y7nm"
   },
   "source": [
    "### Margin analysis"
   ]
  },
  {
   "cell_type": "code",
   "execution_count": null,
   "metadata": {
    "colab": {
     "base_uri": "https://localhost:8080/",
     "height": 238
    },
    "id": "rPiJ0MjWY99T",
    "outputId": "1e18854e-80ca-49bf-a2a8-ec5a4b04e001"
   },
   "outputs": [],
   "source": [
    "# Calculate margin per order (using the 'Source_id' column)\n",
    "salmargin = gl_data[(gl_data['AccountType'] == 'Revenue') | (gl_data['AccountType'] == 'COGS')]\n",
    "salmargin = salmargin.pivot_table(index='Source_id', columns='AccountType', values='AmountNet', aggfunc='sum').fillna(0).round(2)\n",
    "salmargin['Margin'] = (-salmargin['Revenue'] - salmargin['COGS'])/(-salmargin['Revenue'])\n",
    "salmargin['Margin%'] = (-salmargin['Revenue'] - salmargin['COGS'])/(-salmargin['Revenue'])*100\n",
    "\n",
    "salmargin.head(5)"
   ]
  },
  {
   "cell_type": "code",
   "execution_count": null,
   "metadata": {
    "colab": {
     "base_uri": "https://localhost:8080/",
     "height": 238
    },
    "id": "mcWOJeAmY_Qw",
    "outputId": "df775b2b-b271-46d2-b376-0a31c65e5d6d"
   },
   "outputs": [],
   "source": [
    "salmargin_negative = salmargin[salmargin['Margin%'] < 0]\n",
    "salmargin_negative.head(5)"
   ]
  },
  {
   "cell_type": "code",
   "execution_count": null,
   "metadata": {
    "colab": {
     "base_uri": "https://localhost:8080/",
     "height": 564
    },
    "id": "imcjD2JAZfPg",
    "outputId": "7172edff-e33b-4550-815d-9fa62a5fd3d6"
   },
   "outputs": [],
   "source": [
    "# We use the pyplot and seaborn libraries to visualize the data, refer to Cheatsheet Week 1a - Libraries and Exploring a dataset\n",
    "import matplotlib.pyplot as plt\n",
    "import seaborn as sns\n",
    "\n",
    "# Analyzing transaction values for outliers\n",
    "# Define thresholds based on typical transaction ranges\n",
    "threshold_lower = 20 # Assumed min 20% margin based on knowledge from DigiJazz\n",
    "threshold_upper = 50 # Assumed max 50% margin based on knowledge from DigiJazz\n",
    "\n",
    "# Plot histogram for transaction values\n",
    "plt.figure(figsize=(8, 6))\n",
    "sns.histplot(salmargin['Margin%'], bins=20)\n",
    "plt.axvline(threshold_lower, color='red', linestyle='--', label='Lower Threshold')\n",
    "plt.axvline(threshold_upper, color='blue', linestyle='--', label='Upper Threshold')\n",
    "plt.title('Distribution of Margins')\n",
    "plt.xlabel('Margin %')\n",
    "plt.legend()\n",
    "plt.show()"
   ]
  }
 ],
 "metadata": {
  "colab": {
   "provenance": []
  },
  "kernelspec": {
   "display_name": "base",
   "language": "python",
   "name": "python3"
  },
  "language_info": {
   "codemirror_mode": {
    "name": "ipython",
    "version": 3
   },
   "file_extension": ".py",
   "mimetype": "text/x-python",
   "name": "python",
   "nbconvert_exporter": "python",
   "pygments_lexer": "ipython3",
   "version": "3.11.7"
  }
 },
 "nbformat": 4,
 "nbformat_minor": 0
}
